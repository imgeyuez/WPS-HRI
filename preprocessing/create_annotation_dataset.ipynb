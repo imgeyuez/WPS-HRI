{
 "cells": [
  {
   "cell_type": "code",
   "id": "initial_id",
   "metadata": {
    "collapsed": true,
    "ExecuteTime": {
     "end_time": "2025-01-22T11:55:34.492311Z",
     "start_time": "2025-01-22T11:55:34.478838Z"
    }
   },
   "source": "import pandas as pd",
   "outputs": [],
   "execution_count": 23
  },
  {
   "metadata": {
    "ExecuteTime": {
     "end_time": "2025-01-22T11:55:35.129627Z",
     "start_time": "2025-01-22T11:55:34.542150Z"
    }
   },
   "cell_type": "code",
   "source": [
    "# read data\n",
    "df = pd.read_csv('data/wps_speeches.csv')"
   ],
   "id": "76e50b63c4fcc177",
   "outputs": [],
   "execution_count": 24
  },
  {
   "metadata": {
    "ExecuteTime": {
     "end_time": "2025-01-22T11:55:35.255625Z",
     "start_time": "2025-01-22T11:55:35.195761Z"
    }
   },
   "cell_type": "code",
   "source": [
    "df_shuffled = df.sample(frac=1, random_state=42)\n",
    "df_subset = df_shuffled.head(150)\n",
    "df_subset"
   ],
   "id": "12182ac05ae84434",
   "outputs": [
    {
     "data": {
      "text/plain": [
       "                                       filename  year  session number  \\\n",
       "973              UNSC_2012_SPV.6877_spch102.txt  2012            6877   \n",
       "2080             UNSC_2017_SPV.8079_spch112.txt  2017            8079   \n",
       "1281             UNSC_2014_SPV.7289_spch099.txt  2014            7289   \n",
       "952              UNSC_2012_SPV.6877_spch063.txt  2012            6877   \n",
       "2530  UNSC_2019_SPV.8649Resumption2_spch044.txt  2019            8649   \n",
       "...                                         ...   ...             ...   \n",
       "134              UNSC_2003_SPV.4852_spch023.txt  2003            4852   \n",
       "1866             UNSC_2017_SPV.7898_spch022.txt  2017            7898   \n",
       "765              UNSC_2010_SPV.6453_spch021.txt  2010            6453   \n",
       "298              UNSC_2006_SPV.5556_spch037.txt  2006            5556   \n",
       "1653             UNSC_2016_SPV.7704_spch004.txt  2016            7704   \n",
       "\n",
       "                                                   text              speaker  \\\n",
       "973   Mr. Bliss (Australia): Australia welcomes the ...            Mr. Bliss   \n",
       "2080  Mr. Mohamed (Maldives): My delegation wishes t...          Mr. Mohamed   \n",
       "1281  Mr. Donoghue (Ireland): Ireland commends you, ...         Mr. Donoghue   \n",
       "952   Mr. Momen (Bangladesh): I thank Mr. Hardeep Si...            Mr. Momen   \n",
       "2530  Ms. Bassols Delgado (Spain) (spoke in Spanish)...  Ms. Bassols Delgado   \n",
       "...                                                 ...                  ...   \n",
       "134   Mr. Tavola (Fiji): I thank you, Mr. President,...           Mr. Tavola   \n",
       "1866  Mr. Liu Jieyi (China) (spoke in Chinese): Chin...        Mr. Liu Jieyi   \n",
       "765   Mr. Karev (Russian Federation) (spoke in Russi...            Mr. Karev   \n",
       "298   Mr. Al-Qahtani (Qatar) (spoke in Arabic): Perm...       Mr. Al-Qahtani   \n",
       "1653  Ms. Bangura: I wish to thank the Government of...          Ms. Bangura   \n",
       "\n",
       "     country/organization language gender  \\\n",
       "973             Australia  English      m   \n",
       "2080             Maldives  English      m   \n",
       "1281              Ireland  English      m   \n",
       "952            Bangladesh  English      m   \n",
       "2530                Spain  Spanish      f   \n",
       "...                   ...      ...    ...   \n",
       "134                  Fiji  English      m   \n",
       "1866                China  Chinese      m   \n",
       "765    Russian Federation  Russian      m   \n",
       "298                 Qatar   Arabic      m   \n",
       "1653                  NaN  English      f   \n",
       "\n",
       "                                              only text  \n",
       "973    Australia welcomes the convening of this open...  \n",
       "2080   My delegation wishes to thank the French pres...  \n",
       "1281   Ireland commends you, Madam, for organizing t...  \n",
       "952    I thank Mr. Hardeep Singh Puri, Permanent Rep...  \n",
       "2530   The women and peace and security agenda has b...  \n",
       "...                                                 ...  \n",
       "134    I thank you, Mr. President, for the privilege...  \n",
       "1866   China welcomes the initiative of the United K...  \n",
       "765    We thank the United States presidency for org...  \n",
       "298    Permit me at the outset to thank you, Mr. Pre...  \n",
       "1653   I wish to thank the Government of France for ...  \n",
       "\n",
       "[150 rows x 9 columns]"
      ],
      "text/html": [
       "<div>\n",
       "<style scoped>\n",
       "    .dataframe tbody tr th:only-of-type {\n",
       "        vertical-align: middle;\n",
       "    }\n",
       "\n",
       "    .dataframe tbody tr th {\n",
       "        vertical-align: top;\n",
       "    }\n",
       "\n",
       "    .dataframe thead th {\n",
       "        text-align: right;\n",
       "    }\n",
       "</style>\n",
       "<table border=\"1\" class=\"dataframe\">\n",
       "  <thead>\n",
       "    <tr style=\"text-align: right;\">\n",
       "      <th></th>\n",
       "      <th>filename</th>\n",
       "      <th>year</th>\n",
       "      <th>session number</th>\n",
       "      <th>text</th>\n",
       "      <th>speaker</th>\n",
       "      <th>country/organization</th>\n",
       "      <th>language</th>\n",
       "      <th>gender</th>\n",
       "      <th>only text</th>\n",
       "    </tr>\n",
       "  </thead>\n",
       "  <tbody>\n",
       "    <tr>\n",
       "      <th>973</th>\n",
       "      <td>UNSC_2012_SPV.6877_spch102.txt</td>\n",
       "      <td>2012</td>\n",
       "      <td>6877</td>\n",
       "      <td>Mr. Bliss (Australia): Australia welcomes the ...</td>\n",
       "      <td>Mr. Bliss</td>\n",
       "      <td>Australia</td>\n",
       "      <td>English</td>\n",
       "      <td>m</td>\n",
       "      <td>Australia welcomes the convening of this open...</td>\n",
       "    </tr>\n",
       "    <tr>\n",
       "      <th>2080</th>\n",
       "      <td>UNSC_2017_SPV.8079_spch112.txt</td>\n",
       "      <td>2017</td>\n",
       "      <td>8079</td>\n",
       "      <td>Mr. Mohamed (Maldives): My delegation wishes t...</td>\n",
       "      <td>Mr. Mohamed</td>\n",
       "      <td>Maldives</td>\n",
       "      <td>English</td>\n",
       "      <td>m</td>\n",
       "      <td>My delegation wishes to thank the French pres...</td>\n",
       "    </tr>\n",
       "    <tr>\n",
       "      <th>1281</th>\n",
       "      <td>UNSC_2014_SPV.7289_spch099.txt</td>\n",
       "      <td>2014</td>\n",
       "      <td>7289</td>\n",
       "      <td>Mr. Donoghue (Ireland): Ireland commends you, ...</td>\n",
       "      <td>Mr. Donoghue</td>\n",
       "      <td>Ireland</td>\n",
       "      <td>English</td>\n",
       "      <td>m</td>\n",
       "      <td>Ireland commends you, Madam, for organizing t...</td>\n",
       "    </tr>\n",
       "    <tr>\n",
       "      <th>952</th>\n",
       "      <td>UNSC_2012_SPV.6877_spch063.txt</td>\n",
       "      <td>2012</td>\n",
       "      <td>6877</td>\n",
       "      <td>Mr. Momen (Bangladesh): I thank Mr. Hardeep Si...</td>\n",
       "      <td>Mr. Momen</td>\n",
       "      <td>Bangladesh</td>\n",
       "      <td>English</td>\n",
       "      <td>m</td>\n",
       "      <td>I thank Mr. Hardeep Singh Puri, Permanent Rep...</td>\n",
       "    </tr>\n",
       "    <tr>\n",
       "      <th>2530</th>\n",
       "      <td>UNSC_2019_SPV.8649Resumption2_spch044.txt</td>\n",
       "      <td>2019</td>\n",
       "      <td>8649</td>\n",
       "      <td>Ms. Bassols Delgado (Spain) (spoke in Spanish)...</td>\n",
       "      <td>Ms. Bassols Delgado</td>\n",
       "      <td>Spain</td>\n",
       "      <td>Spanish</td>\n",
       "      <td>f</td>\n",
       "      <td>The women and peace and security agenda has b...</td>\n",
       "    </tr>\n",
       "    <tr>\n",
       "      <th>...</th>\n",
       "      <td>...</td>\n",
       "      <td>...</td>\n",
       "      <td>...</td>\n",
       "      <td>...</td>\n",
       "      <td>...</td>\n",
       "      <td>...</td>\n",
       "      <td>...</td>\n",
       "      <td>...</td>\n",
       "      <td>...</td>\n",
       "    </tr>\n",
       "    <tr>\n",
       "      <th>134</th>\n",
       "      <td>UNSC_2003_SPV.4852_spch023.txt</td>\n",
       "      <td>2003</td>\n",
       "      <td>4852</td>\n",
       "      <td>Mr. Tavola (Fiji): I thank you, Mr. President,...</td>\n",
       "      <td>Mr. Tavola</td>\n",
       "      <td>Fiji</td>\n",
       "      <td>English</td>\n",
       "      <td>m</td>\n",
       "      <td>I thank you, Mr. President, for the privilege...</td>\n",
       "    </tr>\n",
       "    <tr>\n",
       "      <th>1866</th>\n",
       "      <td>UNSC_2017_SPV.7898_spch022.txt</td>\n",
       "      <td>2017</td>\n",
       "      <td>7898</td>\n",
       "      <td>Mr. Liu Jieyi (China) (spoke in Chinese): Chin...</td>\n",
       "      <td>Mr. Liu Jieyi</td>\n",
       "      <td>China</td>\n",
       "      <td>Chinese</td>\n",
       "      <td>m</td>\n",
       "      <td>China welcomes the initiative of the United K...</td>\n",
       "    </tr>\n",
       "    <tr>\n",
       "      <th>765</th>\n",
       "      <td>UNSC_2010_SPV.6453_spch021.txt</td>\n",
       "      <td>2010</td>\n",
       "      <td>6453</td>\n",
       "      <td>Mr. Karev (Russian Federation) (spoke in Russi...</td>\n",
       "      <td>Mr. Karev</td>\n",
       "      <td>Russian Federation</td>\n",
       "      <td>Russian</td>\n",
       "      <td>m</td>\n",
       "      <td>We thank the United States presidency for org...</td>\n",
       "    </tr>\n",
       "    <tr>\n",
       "      <th>298</th>\n",
       "      <td>UNSC_2006_SPV.5556_spch037.txt</td>\n",
       "      <td>2006</td>\n",
       "      <td>5556</td>\n",
       "      <td>Mr. Al-Qahtani (Qatar) (spoke in Arabic): Perm...</td>\n",
       "      <td>Mr. Al-Qahtani</td>\n",
       "      <td>Qatar</td>\n",
       "      <td>Arabic</td>\n",
       "      <td>m</td>\n",
       "      <td>Permit me at the outset to thank you, Mr. Pre...</td>\n",
       "    </tr>\n",
       "    <tr>\n",
       "      <th>1653</th>\n",
       "      <td>UNSC_2016_SPV.7704_spch004.txt</td>\n",
       "      <td>2016</td>\n",
       "      <td>7704</td>\n",
       "      <td>Ms. Bangura: I wish to thank the Government of...</td>\n",
       "      <td>Ms. Bangura</td>\n",
       "      <td>NaN</td>\n",
       "      <td>English</td>\n",
       "      <td>f</td>\n",
       "      <td>I wish to thank the Government of France for ...</td>\n",
       "    </tr>\n",
       "  </tbody>\n",
       "</table>\n",
       "<p>150 rows × 9 columns</p>\n",
       "</div>"
      ]
     },
     "execution_count": 25,
     "metadata": {},
     "output_type": "execute_result"
    }
   ],
   "execution_count": 25
  },
  {
   "metadata": {
    "ExecuteTime": {
     "end_time": "2025-01-22T11:55:35.364717Z",
     "start_time": "2025-01-22T11:55:35.335652Z"
    }
   },
   "cell_type": "code",
   "source": [
    "year_stats = df_subset['year'].value_counts().sort_index()\n",
    "\n",
    "year_stats"
   ],
   "id": "8fb54323c5dfc1cc",
   "outputs": [
    {
     "data": {
      "text/plain": [
       "year\n",
       "2002     6\n",
       "2003     1\n",
       "2004     5\n",
       "2005     4\n",
       "2006     4\n",
       "2008     8\n",
       "2009     5\n",
       "2010    14\n",
       "2011     5\n",
       "2012     7\n",
       "2013     5\n",
       "2014    10\n",
       "2015    16\n",
       "2016    22\n",
       "2017    13\n",
       "2018    10\n",
       "2019    15\n",
       "Name: count, dtype: int64"
      ]
     },
     "execution_count": 26,
     "metadata": {},
     "output_type": "execute_result"
    }
   ],
   "execution_count": 26
  },
  {
   "metadata": {
    "ExecuteTime": {
     "end_time": "2025-01-22T11:55:36.358578Z",
     "start_time": "2025-01-22T11:55:36.313049Z"
    }
   },
   "cell_type": "code",
   "source": [
    "# TO DO; DECIDE ON NUMBER OF SAMPLES TO ANNOTATE FOR EQUAL DISTRIBUTION OVER YEARS\n",
    "samples_per_year = 8 # (20 years, to get 160 speeches overall, 8 per year)\n",
    "\n",
    "# Shuffle within each group and sample\n",
    "df_balanced = df.groupby('year', group_keys=False).apply(\n",
    "    lambda x: x.sample(n=min(len(x), samples_per_year), random_state=42)\n",
    ").reset_index(drop=True)\n",
    "\n",
    "df_balanced = df_balanced.reset_index(drop=True)\n",
    "only_text_column = df_balanced[\"only text\"]"
   ],
   "id": "e9e0a9437f49d2b7",
   "outputs": [
    {
     "name": "stderr",
     "output_type": "stream",
     "text": [
      "C:\\Users\\hanna\\AppData\\Local\\Temp\\ipykernel_11448\\4019017945.py:5: DeprecationWarning: DataFrameGroupBy.apply operated on the grouping columns. This behavior is deprecated, and in a future version of pandas the grouping columns will be excluded from the operation. Either pass `include_groups=False` to exclude the groupings or explicitly select the grouping columns after groupby to silence this warning.\n",
      "  df_balanced = df.groupby('year', group_keys=False).apply(\n"
     ]
    }
   ],
   "execution_count": 27
  },
  {
   "metadata": {
    "ExecuteTime": {
     "end_time": "2025-01-22T11:55:36.659155Z",
     "start_time": "2025-01-22T11:55:36.637629Z"
    }
   },
   "cell_type": "code",
   "source": "only_text_column",
   "id": "4818e22473ed0422",
   "outputs": [
    {
     "data": {
      "text/plain": [
       "0       Mr. President, I would like to begin by offer...\n",
       "1       I have the honour to speak on behalf of the E...\n",
       "2       The representative of France will shortly be ...\n",
       "3       We are very pleased to see you, Sir, presidin...\n",
       "4       The United States warmly welcomes this open d...\n",
       "                             ...                        \n",
       "147     I thank the delegations of the United Kingdom...\n",
       "148     Let me point out that I have two statements t...\n",
       "149     It is an honour to have you, the German Feder...\n",
       "150     On behalf of my delegation, let me first expr...\n",
       "151     I thank the South African presidency of the S...\n",
       "Name: only text, Length: 152, dtype: object"
      ]
     },
     "execution_count": 28,
     "metadata": {},
     "output_type": "execute_result"
    }
   ],
   "execution_count": 28
  },
  {
   "metadata": {
    "ExecuteTime": {
     "end_time": "2025-01-22T11:55:49.593357Z",
     "start_time": "2025-01-22T11:55:49.567695Z"
    }
   },
   "cell_type": "code",
   "source": "only_text_column.to_json('wps_annotations.json', orient='records', indent=4)",
   "id": "4e426127cb757933",
   "outputs": [],
   "execution_count": 30
  }
 ],
 "metadata": {
  "kernelspec": {
   "display_name": "Python 3",
   "language": "python",
   "name": "python3"
  },
  "language_info": {
   "codemirror_mode": {
    "name": "ipython",
    "version": 2
   },
   "file_extension": ".py",
   "mimetype": "text/x-python",
   "name": "python",
   "nbconvert_exporter": "python",
   "pygments_lexer": "ipython2",
   "version": "2.7.6"
  }
 },
 "nbformat": 4,
 "nbformat_minor": 5
}
