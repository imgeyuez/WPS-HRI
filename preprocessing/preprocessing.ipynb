{
 "cells": [
  {
   "cell_type": "code",
   "metadata": {
    "ExecuteTime": {
     "end_time": "2024-12-23T12:22:51.045944Z",
     "start_time": "2024-12-23T12:22:51.006543Z"
    }
   },
   "source": [
    "import os\n",
    "import pandas as pd\n",
    "import re"
   ],
   "outputs": [],
   "execution_count": 3
  },
  {
   "cell_type": "code",
   "metadata": {
    "ExecuteTime": {
     "end_time": "2024-12-23T12:22:55.904113Z",
     "start_time": "2024-12-23T12:22:52.953532Z"
    }
   },
   "source": [
    "speeches_dir = '../data/wps_speeches'\n",
    "speeches = [f for f in os.listdir(speeches_dir) if f.endswith('.txt')]\n",
    "\n",
    "speeches_list = []\n",
    "\n",
    "def sort_speeches(filename):\n",
    "    session_match = re.search(r'SPV\\.\\d+(Resumption\\d+)?', filename)  # Match session and resumption\n",
    "    speech_match = re.search(r'spch(\\d+)', filename)  # Match speech number\n",
    "    session = session_match.group(0) if session_match else ''\n",
    "    speech_num = int(speech_match.group(1)) if speech_match else float('inf')  # Default speech number if missing\n",
    "    return session, speech_num\n",
    "    \n",
    "sorted_speeches = sorted(speeches, key=sort_speeches)\n",
    "\n",
    "def extract_information(text):\n",
    "    # make sure there is colon to split on \n",
    "    if \":\" in text: \n",
    "        before_colon, after_colon = text.split(\":\", 1)\n",
    "        \n",
    "    else: \n",
    "        before_colon = text\n",
    "        after_colon = ''\n",
    "        \n",
    "    # extract country (if included, inside parentheses) and person (before parentheses)\n",
    "    match = re.match(r\"(.*?)\\(([^)]+)\\)(?:.*\\(([^)]+)\\))?\", before_colon.strip())\n",
    "    if match:\n",
    "        speaker = match.group(1).strip()  # Text before the first parentheses\n",
    "        if 'spoke in' in match.group(2).lower():\n",
    "            language = re.sub(r'\\b(spoke in)\\b', '', match.group(2).strip(), flags=re.IGNORECASE).strip()\n",
    "            country = None\n",
    "        else: \n",
    "            country = match.group(2).strip()  # Text inside the first parentheses\n",
    "            language = re.sub(r'\\b(spoke in)\\b', '', match.group(3).strip(), flags=re.IGNORECASE).strip() if match.group(3) else \"English\"  # Text inside the second parentheses or default\n",
    "    else:\n",
    "        speaker, country, language = before_colon.strip(), '', \"English\"\n",
    "\n",
    "    # sometimes USA as US, sometimes USA, normalize\n",
    "    if country in ['United States', 'United States of America']:\n",
    "        country = 'United States of America'\n",
    "        \n",
    "    # get gender of the speaker (if obvious)\n",
    "    if re.search(r'(Mr\\.|King|Prince|King|Lord|Sir)', speaker):\n",
    "        gender = \"m\"\n",
    "    elif re.search(r'(Ms\\.|Miss|Mrs\\.|Queen|Princess|Lady|Baroness)', speaker):\n",
    "        gender = \"f\"\n",
    "    else:\n",
    "        gender = \"u\"\n",
    "    \n",
    "    return speaker, country, language, gender, after_colon\n",
    "\n",
    "for speech in sorted_speeches:\n",
    "    # sort out duplicates\n",
    "    if speech.startswith('UNSC_2010_SPV.6396Resumption1'):\n",
    "        continue\n",
    "    session_match = re.search(r'SPV\\.(\\d+)', speech)\n",
    "    session_number = session_match.group(1)\n",
    "    file_path = os.path.join(speeches_dir, speech)\n",
    "    try:\n",
    "        with open(file_path, encoding='utf-8-sig') as f:\n",
    "            text = f.read()\n",
    "            speaker, country, language, gender, after_colon = extract_information(text)\n",
    "    except UnicodeDecodeError:\n",
    "        try:\n",
    "            with open(file_path, encoding='utf-16') as f: # trying alternative encoding\n",
    "                text = f.read()\n",
    "                speaker, country, language, gender, after_colon = extract_information(text)\n",
    "\n",
    "        except Exception as e:\n",
    "            print(f\"Could not read {file_path}: {e}\")\n",
    "            continue\n",
    "    year_match = re.search(r'(\\d{4})', speech)\n",
    "    year = year_match.group(1) if year_match else None\n",
    "    \n",
    "    # Append both text and metadata\n",
    "    speeches_list.append({'filename': speech, 'session number': session_number, 'text': text, 'year': year, 'only text': after_colon, \n",
    "                          'speaker' : speaker, 'country/organization': country, 'gender': gender, 'language': language})\n",
    "\n",
    "speeches_df = pd.DataFrame(speeches_list, columns=['filename', 'year', 'session number', 'text', 'speaker', 'country/organization', 'language', 'gender', 'only text'])"
   ],
   "outputs": [],
   "execution_count": 4
  },
  {
   "metadata": {
    "ExecuteTime": {
     "end_time": "2024-12-20T10:53:04.455342200Z",
     "start_time": "2024-12-17T09:51:18.142555Z"
    }
   },
   "cell_type": "code",
   "source": "",
   "outputs": [],
   "execution_count": null
  },
  {
   "cell_type": "code",
   "metadata": {
    "ExecuteTime": {
     "end_time": "2024-12-23T12:22:57.687593Z",
     "start_time": "2024-12-23T12:22:57.622853Z"
    }
   },
   "source": [
    "# remove new line characters\n",
    "for col in speeches_df:\n",
    "    speeches_df[col] = speeches_df[col].str.replace('\\n', ' ')"
   ],
   "outputs": [],
   "execution_count": 5
  },
  {
   "cell_type": "code",
   "metadata": {
    "ExecuteTime": {
     "end_time": "2024-12-23T12:22:59.108866Z",
     "start_time": "2024-12-23T12:22:59.076349Z"
    }
   },
   "source": [
    "# count rows\n",
    "speeches_df.shape"
   ],
   "outputs": [
    {
     "data": {
      "text/plain": [
       "(4613, 9)"
      ]
     },
     "execution_count": 6,
     "metadata": {},
     "output_type": "execute_result"
    }
   ],
   "execution_count": 6
  },
  {
   "metadata": {
    "ExecuteTime": {
     "end_time": "2024-12-20T11:08:01.564281Z",
     "start_time": "2024-12-20T11:08:01.542580Z"
    }
   },
   "cell_type": "code",
   "source": [
    "# remove speeches from the president\n",
    "speeches_df = speeches_df[~(speeches_df['speaker'] == 'The President')]"
   ],
   "outputs": [],
   "execution_count": 13
  },
  {
   "cell_type": "code",
   "metadata": {
    "ExecuteTime": {
     "end_time": "2024-12-20T11:08:03.111110Z",
     "start_time": "2024-12-20T11:08:02.852164Z"
    }
   },
   "source": [
    "#save to csv\n",
    "speeches_df.to_csv('../data/wps_speeches.csv', index=False)"
   ],
   "outputs": [],
   "execution_count": 14
  },
  {
   "metadata": {},
   "cell_type": "code",
   "outputs": [],
   "execution_count": null,
   "source": ""
  }
 ],
 "metadata": {
  "kernelspec": {
   "display_name": "machinelearn",
   "language": "python",
   "name": "python3"
  },
  "language_info": {
   "codemirror_mode": {
    "name": "ipython",
    "version": 3
   },
   "file_extension": ".py",
   "mimetype": "text/x-python",
   "name": "python",
   "nbconvert_exporter": "python",
   "pygments_lexer": "ipython3",
   "version": "3.10.15"
  }
 },
 "nbformat": 4,
 "nbformat_minor": 2
}
